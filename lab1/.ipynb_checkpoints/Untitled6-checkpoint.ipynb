{
 "cells": [
  {
   "cell_type": "code",
   "execution_count": null,
   "id": "64633fd9-6ef1-4298-b942-4e0dd16659cf",
   "metadata": {},
   "outputs": [],
   "source": [
    "import numpy as np\n",
    "import matplotlib.pyplot as plt\n",
    "\n",
    "# Считывание данных из первого файла\n",
    "data1 = np.loadtxt('X_out.csv')\n",
    "x1 = data1[:, 0]\n",
    "y1 = data1[:, 1]\n",
    "\n",
    "# Построение графика из первого файла\n",
    "plt.plot(x1, y1, label='График 1')\n",
    "\n",
    "# Считывание данных из второго файла\n",
    "data2 = np.loadtxt('V_out.csv')\n",
    "x2 = data2[:, 0]\n",
    "y2 = data2[:, 1]\n",
    "\n",
    "# Построение графика из второго файла\n",
    "plt.plot(x2, y2, label='График 2')\n",
    "\n",
    "# Задание подписей осей и заголовка графика\n",
    "plt.xlabel('x')\n",
    "plt.ylabel('y')\n",
    "plt.title('Два графика из файлов')\n",
    "\n",
    "# Добавление легенды на график\n",
    "plt.legend()\n",
    "\n",
    "# Отображение графика\n",
    "plt.show()\n"
   ]
  }
 ],
 "metadata": {
  "kernelspec": {
   "display_name": "Python 3 (ipykernel)",
   "language": "python",
   "name": "python3"
  },
  "language_info": {
   "codemirror_mode": {
    "name": "ipython",
    "version": 3
   },
   "file_extension": ".py",
   "mimetype": "text/x-python",
   "name": "python",
   "nbconvert_exporter": "python",
   "pygments_lexer": "ipython3",
   "version": "3.9.13"
  }
 },
 "nbformat": 4,
 "nbformat_minor": 5
}
